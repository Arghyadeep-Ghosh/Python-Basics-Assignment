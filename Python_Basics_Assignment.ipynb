{
  "nbformat": 4,
  "nbformat_minor": 0,
  "metadata": {
    "colab": {
      "provenance": []
    },
    "kernelspec": {
      "name": "python3",
      "display_name": "Python 3"
    },
    "language_info": {
      "name": "python"
    }
  },
  "cells": [
    {
      "cell_type": "code",
      "execution_count": null,
      "metadata": {
        "id": "l5J1jKkiysSq"
      },
      "outputs": [],
      "source": [
        "'''\n",
        "Q1) Explain the key features of python that make it a popular choice for programming.\n",
        "\n",
        "ANS) The key features that make Python a popular choice for programming are as follows :-\n",
        " i) Ease of Learning and Use: Python has a simple and readable syntax, which makes it accessible to begineers.\n",
        " ii) Extensive Standard Library: Python comes with a comprehensive standard library that provides modules and functions for various tasks, from file I/O and system operations to web services and data manipulation.\n",
        " iii) Large and Active Community: Python has a large, active community of developers who contribute to its ecosystem by creating libraries, frameworks, and tools.\n",
        " iv) Cross-Platform Compatibility: Python is cross-platform, meaning it can run on different operating systems, such as Windows, macOS, and Linux, without requiring changes to the code. This makes it a flexible choice for development.\n",
        " v) Interpreted Language: Python is an interpreted language, which means code is executed line by line. This allows for quick testing and debugging, as developers can run code immediately without a separate compilation step.'''"
      ]
    },
    {
      "cell_type": "code",
      "source": [
        "'''\n",
        "Q2) Describe the role of pre defined keywords in Python and provide examples of how they are used in a program.\n",
        "\n",
        "Ans) Predefined keywords in Python, often referred to as reserved words, are words that have special meanings and purposes in the language's syntax. These keywords are part of the core language and cannot be used as identifiers .\n",
        "Role of Predefined Keywords -\n",
        "i)Control Flow: Keywords like if, else, elif, for, while, break, continue, and pass are used to control the flow of a program. They help in making decisions, looping, and handling exceptions.\n",
        "ii)Data Types and Values: Keywords such as True, False, None, int, float, str, list, dict, and set represent data types and special values. They define the type of data being handled and provide specific constants.\n",
        "iii)Function and Class Definitions: Keywords like def, return, yield, class, self, and lambda are used to define functions, classes, methods, and anonymous functions.\n",
        "iv)Exception Handling: Keywords such as try, except, finally, raise, and assert are used to handle exceptions and errors in a controlled manner.\n",
        "v)Importing Modules: The import and from keywords are used to include external modules and libraries in the program, allowing the use of additional functionalities.\n",
        "vi)Logical and Comparison Operations: Keywords like and, or, not, is, and in are used for logical and comparison operations.'''\n",
        "\n",
        "# example\n",
        "temperature = int(input(\"Enter the temperature: \"))\n",
        "if temperature > 30:\n",
        "    print(\"It's hot outside.\")\n",
        "elif temperature > 20:\n",
        "    print(\"The weather is pleasant.\")\n",
        "else:\n",
        "    print(\"It's cold outside.\")"
      ],
      "metadata": {
        "colab": {
          "base_uri": "https://localhost:8080/"
        },
        "id": "MTRmDAum1CSQ",
        "outputId": "536e14cd-53a8-4eeb-d4b1-c958d76005a4"
      },
      "execution_count": null,
      "outputs": [
        {
          "output_type": "stream",
          "name": "stdout",
          "text": [
            "Enter the temperature: 25\n",
            "The weather is pleasant.\n"
          ]
        }
      ]
    },
    {
      "cell_type": "code",
      "source": [
        "'''\n",
        "Q3) Compare and contrast mutable and immutable objects in Python with examples.\n",
        "\n",
        "Ans)In Python, objects can be categorized into two types based on whether their state (i.e., their data) can be changed after creation: mutable and immutable objects.\n",
        "\n",
        "Mutable Objects\n",
        "Definition: Mutable objects are those whose state can be changed after they are created. This means you can modify the contents of the object without changing its identity.\n",
        "\n",
        "Characteristics:\n",
        "i)Can change their state or contents.\n",
        "ii)Usually, operations on mutable objects are more performance-intensive because they often involve copying the entire data structure.\n",
        "Examples of mutable objects in Python include lists, dictionaries, and sets.'''"
      ],
      "metadata": {
        "id": "r8NBqiXf4kcU"
      },
      "execution_count": null,
      "outputs": []
    },
    {
      "cell_type": "code",
      "source": [
        "# Example of mutable objects\n",
        "my_set = {1, 2, 3}\n",
        "my_set.add(4)  # Adding an element to the set\n",
        "print(my_set)  # Output: {1, 2, 3, 4}\n"
      ],
      "metadata": {
        "colab": {
          "base_uri": "https://localhost:8080/"
        },
        "id": "ar0NwlF_7bzN",
        "outputId": "27382cec-3563-4627-99e2-b50b7d25cae4"
      },
      "execution_count": null,
      "outputs": [
        {
          "output_type": "stream",
          "name": "stdout",
          "text": [
            "{1, 2, 3, 4}\n"
          ]
        }
      ]
    },
    {
      "cell_type": "code",
      "source": [
        "# Example of mutable objects\n",
        "my_dict = {'a': 1, 'b': 2}\n",
        "my_dict['a'] = 10  # Changing the value associated with key 'a'\n",
        "print(my_dict)  # Output: {'a': 10, 'b': 2}\n"
      ],
      "metadata": {
        "colab": {
          "base_uri": "https://localhost:8080/"
        },
        "id": "AH6DOEoJ7rvy",
        "outputId": "ad9bc78c-10aa-48e5-9f54-59099657e79a"
      },
      "execution_count": null,
      "outputs": [
        {
          "output_type": "stream",
          "name": "stdout",
          "text": [
            "{'a': 10, 'b': 2}\n"
          ]
        }
      ]
    },
    {
      "cell_type": "code",
      "source": [
        "# Example of mutable objects\n",
        "my_list = [1, 2, 3]\n",
        "my_list[0] = 10  # Changing the first element\n",
        "print(my_list)  # Output: [10, 2, 3]\n"
      ],
      "metadata": {
        "colab": {
          "base_uri": "https://localhost:8080/"
        },
        "id": "uPvOI_xo7wSN",
        "outputId": "f1c90391-3b6d-4caa-b195-da0ca3d832bd"
      },
      "execution_count": null,
      "outputs": [
        {
          "output_type": "stream",
          "name": "stdout",
          "text": [
            "[10, 2, 3]\n"
          ]
        }
      ]
    },
    {
      "cell_type": "code",
      "source": [
        "'''\n",
        "Immutable Objects\n",
        "Definition: Immutable objects are those whose state cannot be changed after they are created. Any modification to an immutable object results in the creation of a new object.\n",
        "\n",
        "Characteristics:\n",
        "i)Cannot change their state or contents once created.\n",
        "ii)Operations that modify an immutable object result in a new object being created.\n",
        "iii)Often used in situations where data integrity and safety are crucial, such as keys in dictionaries.\n",
        "iv)Examples of immutable objects in Python include integers, floats, strings, and tuples."
      ],
      "metadata": {
        "id": "6cUuWBS175dn"
      },
      "execution_count": null,
      "outputs": []
    },
    {
      "cell_type": "code",
      "source": [
        "# Example of immutable objects\n",
        "my_tuple = (1, 2, 3)\n",
        "# my_tuple[0] = 10  # This would raise a TypeError\n",
        "print(my_tuple)  # Output: (1, 2, 3)\n"
      ],
      "metadata": {
        "id": "5is6F_Yo8jJc"
      },
      "execution_count": null,
      "outputs": []
    },
    {
      "cell_type": "code",
      "source": [
        "# Example of immutable objects\n",
        "my_string = \"hello\"\n",
        "# my_string[0] = 'H'  # This would raise a TypeError\n",
        "new_string = my_string.replace('h', 'H')\n",
        "print(new_string)  # Output: \"Hello\""
      ],
      "metadata": {
        "id": "wGfIUttL9EUQ"
      },
      "execution_count": null,
      "outputs": []
    },
    {
      "cell_type": "code",
      "source": [
        "# Example of immutable objects\n",
        "a = 10\n",
        "b = a + 5  # This creates a new object; a is still 10\n",
        "print(a, b)  # Output: 10, 15\n"
      ],
      "metadata": {
        "id": "A1UsGmlX9I77"
      },
      "execution_count": null,
      "outputs": []
    },
    {
      "cell_type": "code",
      "source": [
        "'''\n",
        "Key Differences :-\n",
        "\n",
        "Modifiability:\n",
        "Mutable: Can be modified in place.\n",
        "Immutable: Cannot be modified in place; a new object is created instead.\n",
        "\n",
        "Performance:\n",
        "Mutable: Modifying a mutable object can sometimes be more efficient as it avoids creating new objects.\n",
        "Immutable: Often leads to better memory management and can be more efficient for fixed-size data.\n",
        "\n",
        "Use Cases:\n",
        "Mutable: Suitable for data structures that require frequent updates, such as lists and dictionaries.\n",
        "Immutable: Suitable for fixed or constant data, such as configuration settings or keys in a dictionary.\n",
        "\n",
        "Examples:\n",
        "Mutable: Lists, dictionaries, sets, byte arrays.\n",
        "Immutable: Tuples, strings, numbers, frozensets.'''"
      ],
      "metadata": {
        "id": "B11mmUwA9Tt8"
      },
      "execution_count": null,
      "outputs": []
    },
    {
      "cell_type": "code",
      "source": [
        "'''\n",
        "Q4) Discuss the different types of operators in Python and provide examples of how they are used.\n",
        "\n",
        "ANS) In Python, operators are special symbols that perform operations on variables and values. Python supports several types of operators, each serving different purposes.\n",
        "Here are the main categories of operators in Python:\n",
        "\n",
        "i)  Arithmetic Operators :\n",
        "Arithmetic operators are used to perform mathematical operations.\n",
        "The various types of arithmetic operators are as follows-\n",
        "a) Addition (+): Adds two operands.\n",
        "b) Subtraction (-): Subtracts the right operand from the left operand.\n",
        "c) Multiplication (*): Multiplies two operands.\n",
        "d) Division (/): Divides the left operand by the right operand.\n",
        "e) Modulus (%): Returns the remainder when the left operand is divided by the right operand.\n",
        "f) Exponentiation (**): Raises the left operand to the power of the right.\n",
        "g) Floor Division (//): Divides the left operand by the right operand and rounds the result down to the nearest whole number\n",
        "\n",
        "ii) Comparison Operators\n",
        "Comparison operators are used to compare two values.\n",
        "The various types of comparison operators are as follows-\n",
        "a)Equal (==): Checks if the values of two operands are equal.\n",
        "b)Not Equal (!=): Checks if the values of two operands are not equal.\n",
        "c) Greater Than (>): Checks if the value of the left operand is greater than the value of the right operand.\n",
        "d) Less Than (<): Checks if the value of the left operand is less than the value of the right operand.\n",
        "e) Greater Than or Equal To (>=): Checks if the value of the left operand is greater than or equal to the value of the right operand.\n",
        "f) Less Than or Equal To (<=): Checks if the value of the left operand is less than or equal to the value of the right\n",
        "\n",
        "iii) Logical Operators\n",
        "Logical operators are used to perform logical operations on boolean values.\n",
        "The various types of logical operators are as follows-\n",
        "a) AND (and): Returns True if both operands are True.\n",
        "b) OR (or): Returns True if at least one of the operands is True.\n",
        "c) NOT (not): Returns True if the operand is False, and False if the operand is True.\n",
        "\n",
        "iv)  Bitwise Operators\n",
        "Bitwise operators are used to perform bit-level operations.\n",
        "The various types of bitwise operators are as follows-\n",
        "a)Bitwise AND (&): Sets each bit to 1 if both bits are 1.\n",
        "b)Bitwise OR (|): Sets each bit to 1 if at least one of the bits is 1.\n",
        "c)Bitwise XOR (^): Sets each bit to 1 if only one of the bits is 1.\n",
        "d)Bitwise NOT (~): Inverts all the bits.\n",
        "e)Left Shift (<<): Shifts the bits of the left operand to the left by the number of bits specified by the right operand.\n",
        "f)Right Shift (>>): Shifts the bits of the left operand to the right by the number of bits specified by the right operand.\n",
        "\n",
        "v) Assignment Operators\n",
        "Assignment operators are used to assign values to variables.\n",
        "The various types of assignment operators are as follows-\n",
        "a)Assign (=): Assigns the value of the right operand to the left operand.\n",
        "b)Add and Assign (+=): Adds the right operand to the left operand and assigns the result to the left operand.\n",
        "c)Subtract and Assign (-=): Subtracts the right operand from the left operand and assigns the result to the left operand.\n",
        "d)Multiply and Assign (*=): Multiplies the left operand by the right operand and assigns the result to the left operand.\n",
        "e)Divide and Assign (/=): Divides the left operand by the right operand and assigns the result to the left operand.\n",
        "f)Modulus and Assign (%=): Computes the modulus of the left operand by the right operand and assigns the result to the left operand.\n",
        "g)Exponent and Assign (**=): Raises the left operand to the power of the right operand and assigns the result to the left operand.\n",
        "h)Floor Division and Assign (//=): Performs floor division on the left operand by the right operand and assigns the result to the left operand.\n",
        "\n",
        "vi)  Identity Operators\n",
        "Identity operators are used to compare the memory locations of two objects.\n",
        "The various types of identity operators are as follows-\n",
        "a)Is (is): Returns True if both variables are the same object.\n",
        "b)Is Not (is not): Returns True if both variables are different objects.\n",
        "\n",
        "vii) Membership Operators\n",
        "Membership operators are used to check if a value exists in a sequence (such as a string, list, or tuple).\n",
        "The various types of membership operators are as follows-\n",
        "a)In (in): Returns True if a value exists in a sequence.\n",
        "b)Not In (not in): Returns True if a value does not exist in a sequence.\n",
        "\n",
        "These operators form the basis for building complex expressions and control structures in Python programming.'''"
      ],
      "metadata": {
        "id": "y_MbHTy7gRA-"
      },
      "execution_count": null,
      "outputs": []
    },
    {
      "cell_type": "code",
      "source": [
        "# Example of Arithmetic Operators\n",
        "a = 10\n",
        "b = 3\n",
        "\n",
        "# Addition\n",
        "addition = a + b\n",
        "print(\"Addition:\", addition)  # Output: 13\n",
        "\n",
        "# Subtraction\n",
        "subtraction = a - b\n",
        "print(\"Subtraction:\", subtraction)  # Output: 7\n",
        "\n",
        "# Multiplication\n",
        "multiplication = a * b\n",
        "print(\"Multiplication:\", multiplication)  # Output: 30\n",
        "\n",
        "# Division\n",
        "division = a / b\n",
        "print(\"Division:\", division)  # Output: 3.3333333333333335\n",
        "\n",
        "# Modulus\n",
        "modulus = a % b\n",
        "print(\"Modulus:\", modulus)  # Output: 1\n",
        "\n",
        "# Exponentiation\n",
        "exponentiation = a ** b\n",
        "print(\"Exponentiation:\", exponentiation)  # Output: 1000\n",
        "\n",
        "# Floor Division\n",
        "floor_division = a // b\n",
        "print(\"Floor Division:\", floor_division)  # Output: 3\n"
      ],
      "metadata": {
        "id": "c9erZOfbk5Eo"
      },
      "execution_count": null,
      "outputs": []
    },
    {
      "cell_type": "code",
      "source": [
        "# Example of comparision operators\n",
        "a = 10\n",
        "b = 3\n",
        "c = 10\n",
        "\n",
        "# Equal\n",
        "equal = (a == b)\n",
        "print(\"a == b:\", equal)  # Output: False\n",
        "\n",
        "# Not Equal\n",
        "not_equal = (a != b)\n",
        "print(\"a != b:\", not_equal)  # Output: True\n",
        "\n",
        "# Greater than\n",
        "greater_than = (a > b)\n",
        "print(\"a > b:\", greater_than)  # Output: True\n",
        "\n",
        "# Less than\n",
        "less_than = (a < b)\n",
        "print(\"a < b:\", less_than)  # Output: False\n",
        "\n",
        "# Greater than or equal to\n",
        "greater_than_or_equal = (a >= c)\n",
        "print(\"a >= c:\", greater_than_or_equal)  # Output: True\n",
        "\n",
        "# Less than or equal to\n",
        "less_than_or_equal = (a <= b)\n",
        "print(\"a <= b:\", less_than_or_equal)  # Output: False\n",
        "\n",
        "# Equal (same values, different variable)\n",
        "equal_c = (a == c)\n",
        "print(\"a == c:\", equal_c)  # Output: True\n"
      ],
      "metadata": {
        "id": "S6oEGDVZlTDG"
      },
      "execution_count": null,
      "outputs": []
    },
    {
      "cell_type": "code",
      "source": [
        "# Example of logical operators\n",
        "a = True\n",
        "b = False\n",
        "c = True\n",
        "\n",
        "# Logical AND\n",
        "logical_and = a and b\n",
        "print(\"a and b:\", logical_and)  # Output: False\n",
        "\n",
        "# Logical OR\n",
        "logical_or = a or b\n",
        "print(\"a or b:\", logical_or)  # Output: True\n",
        "\n",
        "# Logical NOT\n",
        "logical_not_a = not a\n",
        "print(\"not a:\", logical_not_a)  # Output: False\n",
        "\n",
        "logical_not_b = not b\n",
        "print(\"not b:\", logical_not_b)  # Output: True\n",
        "\n",
        "# Combined Logical Operators\n",
        "combined_and_or = (a and b) or c\n",
        "print(\"(a and b) or c:\", combined_and_or)  # Output: True\n",
        "\n",
        "combined_or_and = (a or b) and c\n",
        "print(\"(a or b) and c:\", combined_or_and)  # Output: True\n"
      ],
      "metadata": {
        "id": "UzfqO5GNll-A"
      },
      "execution_count": null,
      "outputs": []
    },
    {
      "cell_type": "code",
      "source": [
        "# Example of bitwise operators\n",
        "a = 10  # Binary: 1010\n",
        "b = 3   # Binary: 0011\n",
        "\n",
        "# Bitwise AND\n",
        "bitwise_and = a & b\n",
        "print(\"a & b:\", bitwise_and)  # Output: 2 (Binary: 0010)\n",
        "\n",
        "# Bitwise OR\n",
        "bitwise_or = a | b\n",
        "print(\"a | b:\", bitwise_or)  # Output: 11 (Binary: 1011)\n",
        "\n",
        "# Bitwise XOR\n",
        "bitwise_xor = a ^ b\n",
        "print(\"a ^ b:\", bitwise_xor)  # Output: 9 (Binary: 1001)\n",
        "\n",
        "# Bitwise NOT\n",
        "bitwise_not_a = ~a\n",
        "print(\"~a:\", bitwise_not_a)  # Output: -11 (Binary: ...11110101)\n",
        "\n",
        "# Bitwise left shift\n",
        "left_shift = a << 1\n",
        "print(\"a << 1:\", left_shift)  # Output: 20 (Binary: 10100)\n",
        "\n",
        "# Bitwise right shift\n",
        "right_shift = a >> 1\n",
        "print(\"a >> 1:\", right_shift)  # Output: 5 (Binary: 0101)\n"
      ],
      "metadata": {
        "id": "EmMc4LALl93E"
      },
      "execution_count": null,
      "outputs": []
    },
    {
      "cell_type": "code",
      "source": [
        "# Example of assignment operator\n",
        "a = 10\n",
        "print(\"Initial value of a:\", a)  # Output: 10\n",
        "\n",
        "# Assign\n",
        "b = a\n",
        "print(\"b = a:\", b)  # Output: 10\n",
        "\n",
        "# Add and assign\n",
        "a += 5\n",
        "print(\"a += 5:\", a)  # Output: 15\n",
        "\n",
        "# Subtract and assign\n",
        "a -= 3\n",
        "print(\"a -= 3:\", a)  # Output: 12\n",
        "\n",
        "# Multiply and assign\n",
        "a *= 2\n",
        "print(\"a *= 2:\", a)  # Output: 24\n",
        "\n",
        "# Divide and assign\n",
        "a /= 4\n",
        "print(\"a /= 4:\", a)  # Output: 6.0\n",
        "\n",
        "# Modulus and assign\n",
        "a %= 5\n",
        "print(\"a %= 5:\", a)  # Output: 1.0\n",
        "\n",
        "# Exponentiation and assign\n",
        "a **= 3\n",
        "print(\"a **= 3:\", a)  # Output: 1.0\n",
        "\n",
        "# Floor division and assign\n",
        "a = 10  # Resetting a to 10 for the next operations\n",
        "a //= 3\n",
        "print(\"a //= 3:\", a)  # Output: 3\n",
        "\n"
      ],
      "metadata": {
        "id": "6zWNNqILmbgm"
      },
      "execution_count": null,
      "outputs": []
    },
    {
      "cell_type": "code",
      "source": [
        "# Example of identity operator\n",
        "x = [\"apple\", \"banana\"]\n",
        "y = [\"apple\", \"banana\"]\n",
        "z = x\n",
        "\n",
        "# Identity: is\n",
        "is_same_object = (x is z)\n",
        "print(\"x is z:\", is_same_object)  # Output: True (x and z reference the same object)\n",
        "\n",
        "is_different_object = (x is y)\n",
        "print(\"x is y:\", is_different_object)  # Output: False (x and y reference different objects)\n",
        "\n",
        "# Identity: is not\n",
        "is_not_same_object = (x is not y)\n",
        "print(\"x is not y:\", is_not_same_object)  # Output: True (x and y reference different objects)\n",
        "\n",
        "# Comparison of content using equality operator (==)\n",
        "is_equal_content = (x == y)\n",
        "print(\"x == y:\", is_equal_content)  # Output: True (x and y have the same content)\n"
      ],
      "metadata": {
        "id": "UWWLCCKWm2jy"
      },
      "execution_count": null,
      "outputs": []
    },
    {
      "cell_type": "code",
      "source": [
        "# Example of membership operator\n",
        "fruits = [\"apple\", \"banana\", \"cherry\"]\n",
        "text = \"Hello, world!\"\n",
        "\n",
        "# Membership: in\n",
        "is_banana_in_fruits = \"banana\" in fruits\n",
        "print(\"'banana' in fruits:\", is_banana_in_fruits)  # Output: True\n",
        "\n",
        "is_grape_in_fruits = \"grape\" in fruits\n",
        "print(\"'grape' in fruits:\", is_grape_in_fruits)  # Output: False\n",
        "\n",
        "is_hello_in_text = \"Hello\" in text\n",
        "print(\"'Hello' in text:\", is_hello_in_text)  # Output: True\n",
        "\n",
        "is_python_in_text = \"Python\" in text\n",
        "print(\"'Python' in text:\", is_python_in_text)  # Output: False\n",
        "\n",
        "# Membership: not in\n",
        "is_grape_not_in_fruits = \"grape\" not in fruits\n",
        "print(\"'grape' not in fruits:\", is_grape_not_in_fruits)  # Output: True\n",
        "\n",
        "is_banana_not_in_fruits = \"banana\" not in fruits\n",
        "print(\"'banana' not in fruits:\", is_banana_not_in_fruits)  # Output: False\n",
        "\n",
        "is_python_not_in_text = \"Python\" not in text\n",
        "print(\"'Python' not in text:\", is_python_not_in_text)  # Output: True\n",
        "\n",
        "is_hello_not_in_text = \"Hello\" not in text\n",
        "print(\"'Hello' not in text:\", is_hello_not_in_text)  # Output: False\n"
      ],
      "metadata": {
        "id": "iN95qhEvm9pO"
      },
      "execution_count": null,
      "outputs": []
    },
    {
      "cell_type": "code",
      "source": [
        "'''\n",
        "Q5) Expalin the concept of typecasting in Python with examples.\n",
        "\n",
        "Ans) Typecasting in Python, also known as type conversion, is the process of converting a variable from one data type to another.\n",
        " This can be done using built-in functions such as int(), float(), str(), and bool(). Typecasting is a powerful feature in Python\n",
        " that allows for flexible and dynamic data manipulation, enabling more versatile and efficient programming.\n",
        " Typecasting can be either implicit or explicit.\n",
        "\n",
        "Implicit Typecasting: Implicit typecasting, also known as automatic type conversion, happens when Python automatically converts one data type to another without the programmer needing to do anything.\n",
        "Python does this to prevent errors in operations that involve different types of data.\n",
        "Example:\n",
        "If we add an integer and a float together, Python will automatically convert the integer to a float so that the operation can be performed correctly.\n",
        "\n",
        "Explicit Typecasting: Explicit typecasting, also known as explicit type conversion, is when the programmer manually converts a variable from one data type to another using built-in functions.\n",
        "This is done to ensure that the data is in the desired format for a specific operation.\n",
        "These are some common Explicit Typecasting Functions in Python-\n",
        "int(x): Converts x to an integer.\n",
        "float(x): Converts x to a float.\n",
        "str(x): Converts x to a string.\n",
        "bool(x): Converts x to a boolean.\n",
        "'''"
      ],
      "metadata": {
        "id": "vvBktmSG8MOp"
      },
      "execution_count": null,
      "outputs": []
    },
    {
      "cell_type": "code",
      "source": [
        "# Example of implicit typecasting\n",
        "a = 10   # integer\n",
        "b = 5.5  # float\n",
        "\n",
        "result = a + b\n",
        "print(result)       # Output: 15.5\n",
        "print(type(result)) # Output: <class 'float'>\n",
        "'''\n",
        "In this example, a (an integer) is implicitly converted to a float before being added to b (a float), resulting in a float value of 15.5.'''\n"
      ],
      "metadata": {
        "id": "-BYcDe55-dNj"
      },
      "execution_count": null,
      "outputs": []
    },
    {
      "cell_type": "code",
      "source": [
        "# Example of Explicit Typecasting\n",
        "# Converting string to integer\n",
        "s = \"123\"\n",
        "num = int(s)\n",
        "print(num)           # Output: 123\n",
        "print(type(num))     # Output: <class 'int'>\n",
        "\n",
        "# Converting integer to float\n",
        "i = 10\n",
        "f = float(i)\n",
        "print(f)             # Output: 10.0\n",
        "print(type(f))       # Output: <class 'float'>\n",
        "\n",
        "# Converting float to string\n",
        "pi = 3.14159\n",
        "pi_str = str(pi)\n",
        "print(pi_str)        # Output: '3.14159'\n",
        "print(type(pi_str))  # Output: <class 'str'>\n",
        "\n",
        "# Converting integer to boolean\n",
        "x = 0\n",
        "bool_x = bool(x)\n",
        "print(bool_x)        # Output: False\n",
        "print(type(bool_x))  # Output: <class 'bool'>\n"
      ],
      "metadata": {
        "id": "AXBWkFBS-1sk"
      },
      "execution_count": null,
      "outputs": []
    },
    {
      "cell_type": "code",
      "source": [
        "'''\n",
        "Q6) How do conditional statements work in Python? Illustrate with examples.\n",
        "\n",
        "Ans) Conditional statements in Python allow you to execute different blocks of code based on certain conditions. They are used to control the flow of the program and make decisions.\n",
        "The main conditional statements in Python are if, elif, and else.\n",
        "\n",
        "if Statement: The if statement evaluates a condition, and if it is true, the indented block of code under the if statement is executed.\n",
        "\n",
        "else Statement: The else statement is used to execute a block of code when the condition in the if statement is false.\n",
        "\n",
        "elif Statement: The elif (short for \"else if\") statement is used to check multiple conditions. It allows you to chain several conditions together.\n",
        "\n",
        "Nested Conditional Statements: We can also nest if, elif, and else statements within each other to check multiple conditions.\n",
        "\n",
        "Boolean Conditions: Conditional statements can evaluate any expression that returns a Boolean value (True or False).\n",
        "\n",
        "Conditional statements help in making decisions in your code and controlling the flow of execution based on different conditions."
      ],
      "metadata": {
        "id": "Z6ywj0BBAb-5"
      },
      "execution_count": null,
      "outputs": []
    },
    {
      "cell_type": "code",
      "source": [
        "# if statement\n",
        "age = 18\n",
        "if age >= 18:\n",
        "    print(\"You are an adult.\")\n"
      ],
      "metadata": {
        "id": "-4oA-_cEBVtk"
      },
      "execution_count": null,
      "outputs": []
    },
    {
      "cell_type": "code",
      "source": [
        "#else statement\n",
        "age = 16\n",
        "if age >= 18:\n",
        "    print(\"You are an adult.\")\n",
        "else:\n",
        "    print(\"You are a minor.\")\n"
      ],
      "metadata": {
        "id": "HlWwwKoGCVsM"
      },
      "execution_count": null,
      "outputs": []
    },
    {
      "cell_type": "code",
      "source": [
        "# elif statement\n",
        "score = 85\n",
        "if score >= 90:\n",
        "    print(\"Grade: A\")\n",
        "elif score >= 80:\n",
        "    print(\"Grade: B\")\n",
        "elif score >= 70:\n",
        "    print(\"Grade: C\")\n",
        "else:\n",
        "    print(\"Grade: F\")\n"
      ],
      "metadata": {
        "id": "NgaksyX3Cgew"
      },
      "execution_count": null,
      "outputs": []
    },
    {
      "cell_type": "code",
      "source": [
        "# nested conditional statements\n",
        "temperature = 30\n",
        "\n",
        "if temperature > 30:\n",
        "    print(\"It's a hot day.\")\n",
        "elif temperature > 20:\n",
        "    print(\"It's a nice day.\")\n",
        "elif temperature > 10:\n",
        "    print(\"It's a bit cold.\")\n",
        "else:\n",
        "    print(\"It's cold.\")\n",
        "\n"
      ],
      "metadata": {
        "id": "PEUeUQG9CrGZ"
      },
      "execution_count": null,
      "outputs": []
    },
    {
      "cell_type": "code",
      "source": [
        "# Boolean conditions\n",
        "is_raining = True\n",
        "has_umbrella = False\n",
        "\n",
        "if is_raining and has_umbrella:\n",
        "    print(\"Take your umbrella.\")\n",
        "elif is_raining and not has_umbrella:\n",
        "    print(\"You might get wet.\")\n",
        "else:\n",
        "    print(\"Enjoy the weather!\")\n"
      ],
      "metadata": {
        "id": "LmAefrt6CzBZ"
      },
      "execution_count": null,
      "outputs": []
    },
    {
      "cell_type": "code",
      "source": [
        "'''\n",
        "Q7) Describe the different types of loops in Python and their use cases with examples.\n",
        "\n",
        "Ans) Loops in Python are used to repeatedly execute a block of code. There are two main types of loops in Python: for loops and while loops.\n",
        "\n",
        "for Loops: for loops are used to iterate over a sequence (such as a list, tuple, dictionary, set, or string) or any other iterable object.\n",
        "They are often used when you know in advance how many times you need to execute a block of code.\n",
        "\n",
        "while Loops: while loops are used to repeatedly execute a block of code as long as a certain condition is true.\n",
        "They are used when you don't know in advance how many times you need to execute a block of code."
      ],
      "metadata": {
        "id": "s65j3NNRHjVB"
      },
      "execution_count": null,
      "outputs": []
    },
    {
      "cell_type": "code",
      "source": [
        "# for loop example\n",
        "# itterating over a list\n",
        "fruits = [\"apple\", \"banana\", \"cherry\"]\n",
        "for fruit in fruits:\n",
        "    print(fruit)\n",
        "\n",
        "  ''' Output:\n",
        "apple\n",
        "banana\n",
        "cherry'''\n"
      ],
      "metadata": {
        "id": "SoX3cyilIeu8"
      },
      "execution_count": null,
      "outputs": []
    },
    {
      "cell_type": "code",
      "source": [
        "# for loop example\n",
        "# itterating over a string\n",
        "text = \"Hello, world!\"\n",
        "for char in text:\n",
        "    print(char)\n",
        "'''Output:\n",
        "H\n",
        "e\n",
        "l\n",
        "l\n",
        "o\n",
        ",\n",
        "w\n",
        "o\n",
        "r\n",
        "l\n",
        "d\n",
        "!'''\n"
      ],
      "metadata": {
        "id": "1NHgP_2dIoFH"
      },
      "execution_count": null,
      "outputs": []
    },
    {
      "cell_type": "code",
      "source": [
        "# Example of for loop\n",
        "#Executing a fixed number of times: When the number of iterations is known.\n",
        "#The range() function generates a sequence of numbers.\n",
        "for i in range(3):\n",
        "    print(i)\n",
        "  '''Output:\n",
        "0\n",
        "1\n",
        "2'''\n"
      ],
      "metadata": {
        "id": "KgercMLMJa1n"
      },
      "execution_count": null,
      "outputs": []
    },
    {
      "cell_type": "code",
      "source": [
        "# Example of while loop\n",
        "count = 0\n",
        "while count < 3:\n",
        "    print(count)\n",
        "    count += 1\n",
        "'''Output:\n",
        "0\n",
        "1\n",
        "2'''"
      ],
      "metadata": {
        "id": "yejANtECKOPB"
      },
      "execution_count": null,
      "outputs": []
    },
    {
      "cell_type": "code",
      "source": [
        "# Example of while loop\n",
        "# Infinite loop with break condition\n",
        "while True:\n",
        "    name = input(\"Enter your name (type 'exit' to stop): \")\n",
        "    if name == 'exit':\n",
        "        break\n",
        "    print(f\"Hello, {name}!\")\n",
        "    '''Output:\n",
        "Enter your name (type 'exit' to stop): John\n",
        "Hello, John!\n",
        "Enter your name (type 'exit' to stop): Jane\n",
        "Hello, Jane!\n",
        "Enter your name (type 'exit' to stop): exit'''\n",
        "\n"
      ],
      "metadata": {
        "id": "SP-y2SzbKWRf"
      },
      "execution_count": null,
      "outputs": []
    }
  ]
}